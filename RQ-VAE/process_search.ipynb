{
 "cells": [
  {
   "cell_type": "code",
   "execution_count": 63,
   "metadata": {},
   "outputs": [],
   "source": [
    "from datasets import load_dataset\n",
    "\n",
    "ds = load_dataset(\"tasksource/esci\")"
   ]
  },
  {
   "cell_type": "code",
   "execution_count": 64,
   "metadata": {},
   "outputs": [],
   "source": [
    "import json\n",
    "import os\n",
    "\n",
    "# Define the path to the Video_Games.data_maps file\n",
    "data_maps_path = os.path.join('Video_Games.data_maps')\n",
    "\n",
    "# Open and load the JSON data from Video_Games.data_maps\n",
    "with open(data_maps_path, 'r') as f:\n",
    "    video_games_data = json.load(f)\n",
    "\n"
   ]
  },
  {
   "cell_type": "code",
   "execution_count": 65,
   "metadata": {},
   "outputs": [
    {
     "data": {
      "text/plain": [
       "dict_keys(['user2id', 'id2user', 'item2id', 'id2item', 'id2meta'])"
      ]
     },
     "execution_count": 65,
     "metadata": {},
     "output_type": "execute_result"
    }
   ],
   "source": [
    "video_games_data.keys()"
   ]
  },
  {
   "cell_type": "code",
   "execution_count": 66,
   "metadata": {},
   "outputs": [],
   "source": [
    "# Filter the dataset to keep only entries with small_version == 1\n",
    "valid_product_ids = set(video_games_data['id2item'])\n",
    "\n",
    "ds_small = ds.filter(lambda example: example['small_version'] == 1)\n",
    "ds_exact = ds_small.filter(lambda example: example['esci_label'] == 'Exact')\n",
    "ds_us = ds_exact.filter(lambda example: example['product_locale'] == 'us')\n",
    "ds_video_games = ds_us.filter(lambda example: example['product_id'] in valid_product_ids)\n",
    "\n",
    "\n",
    "\n"
   ]
  },
  {
   "cell_type": "code",
   "execution_count": 67,
   "metadata": {},
   "outputs": [],
   "source": [
    "ds_c4 = load_dataset(\"McAuley-Lab/Amazon-C4\")"
   ]
  },
  {
   "cell_type": "code",
   "execution_count": 68,
   "metadata": {},
   "outputs": [],
   "source": [
    "ds_c4 = ds_c4.filter(lambda example: example['item_id'] in valid_product_ids)"
   ]
  },
  {
   "cell_type": "code",
   "execution_count": 69,
   "metadata": {},
   "outputs": [
    {
     "data": {
      "text/plain": [
       "DatasetDict({\n",
       "    train: Dataset({\n",
       "        features: ['example_id', 'query', 'query_id', 'product_id', 'product_locale', 'esci_label', 'small_version', 'large_version', 'product_title', 'product_description', 'product_bullet_point', 'product_brand', 'product_color', 'product_text'],\n",
       "        num_rows: 800\n",
       "    })\n",
       "    test: Dataset({\n",
       "        features: ['example_id', 'query', 'query_id', 'product_id', 'product_locale', 'esci_label', 'small_version', 'large_version', 'product_title', 'product_description', 'product_bullet_point', 'product_brand', 'product_color', 'product_text'],\n",
       "        num_rows: 389\n",
       "    })\n",
       "})"
      ]
     },
     "execution_count": 69,
     "metadata": {},
     "output_type": "execute_result"
    }
   ],
   "source": [
    "ds_video_games"
   ]
  },
  {
   "cell_type": "code",
   "execution_count": 70,
   "metadata": {},
   "outputs": [
    {
     "data": {
      "text/plain": [
       "DatasetDict({\n",
       "    test: Dataset({\n",
       "        features: ['qid', 'query', 'item_id', 'user_id', 'ori_rating', 'ori_review'],\n",
       "        num_rows: 149\n",
       "    })\n",
       "})"
      ]
     },
     "execution_count": 70,
     "metadata": {},
     "output_type": "execute_result"
    }
   ],
   "source": [
    "ds_c4"
   ]
  },
  {
   "cell_type": "code",
   "execution_count": null,
   "metadata": {},
   "outputs": [],
   "source": [
    "dataset = \"Video_Games\" \n",
    "output_dir = f\"./ID_generation/preprocessing/processed/{dataset}/\"\n"
   ]
  },
  {
   "cell_type": "code",
   "execution_count": 71,
   "metadata": {},
   "outputs": [
    {
     "name": "stderr",
     "output_type": "stream",
     "text": [
      "Saving the dataset (1/1 shards): 100%|██████████| 800/800 [00:00<00:00, 22042.22 examples/s]\n",
      "Saving the dataset (1/1 shards): 100%|██████████| 389/389 [00:00<00:00, 21500.46 examples/s]\n",
      "Saving the dataset (1/1 shards): 100%|██████████| 149/149 [00:00<00:00, 25668.51 examples/s]\n"
     ]
    }
   ],
   "source": [
    "# save ds_video_games\n",
    "ds_video_games.save_to_disk(output_dir + \"Video_Games_esci\")\n",
    "ds_c4.save_to_disk(output_dir + \"Video_Games_c4\")\n"
   ]
  },
  {
   "cell_type": "code",
   "execution_count": 79,
   "metadata": {},
   "outputs": [],
   "source": [
    "from datasets import load_from_disk\n"
   ]
  },
  {
   "cell_type": "code",
   "execution_count": 80,
   "metadata": {},
   "outputs": [],
   "source": [
    "# load ds_video_games\n",
    "ds_video_games_test = load_from_disk(\"Video_Games_esci\")\n",
    "ds_c4_test = load_from_disk(\"Video_Games_c4\")\n",
    "\n"
   ]
  },
  {
   "cell_type": "code",
   "execution_count": null,
   "metadata": {},
   "outputs": [],
   "source": []
  }
 ],
 "metadata": {
  "kernelspec": {
   "display_name": ".gen_venv",
   "language": "python",
   "name": "python3"
  },
  "language_info": {
   "codemirror_mode": {
    "name": "ipython",
    "version": 3
   },
   "file_extension": ".py",
   "mimetype": "text/x-python",
   "name": "python",
   "nbconvert_exporter": "python",
   "pygments_lexer": "ipython3",
   "version": "3.9.13"
  }
 },
 "nbformat": 4,
 "nbformat_minor": 2
}
