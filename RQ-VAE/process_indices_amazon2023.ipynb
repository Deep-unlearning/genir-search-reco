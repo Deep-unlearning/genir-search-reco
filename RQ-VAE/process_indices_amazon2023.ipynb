{
 "cells": [
  {
   "cell_type": "code",
   "execution_count": 1,
   "metadata": {},
   "outputs": [
    {
     "name": "stderr",
     "output_type": "stream",
     "text": [
      "/home/s.zheng/sync/Gen_reco/.gen_venv/lib64/python3.9/site-packages/tqdm/auto.py:21: TqdmWarning: IProgress not found. Please update jupyter and ipywidgets. See https://ipywidgets.readthedocs.io/en/stable/user_install.html\n",
      "  from .autonotebook import tqdm as notebook_tqdm\n"
     ]
    }
   ],
   "source": [
    "import os\n",
    "import re\n",
    "import html\n",
    "import json\n",
    "import argparse\n",
    "import torch\n",
    "import numpy as np\n",
    "from tqdm import tqdm\n",
    "from datasets import load_dataset\n",
    "from transformers import AutoModel, AutoTokenizer\n",
    "from sentence_transformers import SentenceTransformer"
   ]
  },
  {
   "cell_type": "code",
   "execution_count": 11,
   "metadata": {},
   "outputs": [],
   "source": [
    "data = np.load('ID_generation/preprocessing/processed/Video_Games/Video_Games.blair-roberta-base.embeddings.npy')"
   ]
  },
  {
   "cell_type": "code",
   "execution_count": 12,
   "metadata": {},
   "outputs": [
    {
     "data": {
      "text/plain": [
       "(115813, 768)"
      ]
     },
     "execution_count": 12,
     "metadata": {},
     "output_type": "execute_result"
    }
   ],
   "source": [
    "data.shape"
   ]
  },
  {
   "cell_type": "code",
   "execution_count": 2,
   "metadata": {},
   "outputs": [],
   "source": [
    "dataset = \"Video_Games\"\n",
    "output_dir = f\"./ID_generation/preprocessing/processed/{dataset}/\"\n",
    "\n",
    "train_file = f\"{dataset}.train.inter\"\n",
    "valid_file = f\"{dataset}.valid.inter\"\n",
    "test_file = f\"{dataset}.test.inter\"\n",
    "datamap_files = f\"{dataset}.data_maps\""
   ]
  },
  {
   "cell_type": "code",
   "execution_count": 3,
   "metadata": {},
   "outputs": [],
   "source": [
    "# open the files and read the lines\n",
    "train_lines = open(f\"{output_dir}{train_file}\", \"r\").readlines()\n",
    "valid_lines = open(f\"{output_dir}{valid_file}\", \"r\").readlines()\n",
    "test_lines = open(f\"{output_dir}{test_file}\", \"r\").readlines()"
   ]
  },
  {
   "cell_type": "code",
   "execution_count": 4,
   "metadata": {},
   "outputs": [],
   "source": [
    "# Open datamap as a json file\n",
    "with open(f\"{output_dir}{datamap_files}\", \"r\") as f:\n",
    "    datamap = json.load(f)\n",
    "\n",
    "# open All_Beauty.index.json\n",
    "\n",
    "with open(f\"./ID_generation/preprocessing/processed/{dataset}/{dataset}.index.json\", \"r\") as f:\n",
    "    id2code = json.load(f)"
   ]
  },
  {
   "cell_type": "code",
   "execution_count": 5,
   "metadata": {},
   "outputs": [],
   "source": [
    "for key,value in id2code.items():\n",
    "    new_value = ''.join(value)\n",
    "    id2code[key] = new_value"
   ]
  },
  {
   "cell_type": "code",
   "execution_count": 6,
   "metadata": {},
   "outputs": [],
   "source": [
    "def process_data(lines):\n",
    "    lines_values = [line.strip().split(\"\\t\") for line in lines[1:]]\n",
    "\n",
    "    train_interactions_user = [line[0] for line in lines_values]\n",
    "    train_interactions_seq =  [line[1] for line in lines_values]\n",
    "    train_interactions_target = [line[2] for line in lines_values]\n",
    "\n",
    "    save_train_dict = []\n",
    "    for user, seq, target in zip(train_interactions_user, train_interactions_seq, train_interactions_target):\n",
    "        user_id = datamap['user2id'][user]\n",
    "        seq = [datamap['item2id'][item] for item in seq.split(\" \")]\n",
    "        target = datamap['item2id'][target]\n",
    "        seq.append(target)\n",
    "        save_train_dict.append([user_id, seq])\n",
    "\n",
    "    return save_train_dict"
   ]
  },
  {
   "cell_type": "code",
   "execution_count": 7,
   "metadata": {},
   "outputs": [],
   "source": [
    "save_train_dict = process_data(train_lines)\n",
    "save_valid_dict = process_data(valid_lines)\n",
    "save_test_dict = process_data(test_lines)"
   ]
  },
  {
   "cell_type": "code",
   "execution_count": 8,
   "metadata": {},
   "outputs": [
    {
     "data": {
      "text/plain": [
       "(1505033, 131348, 152463)"
      ]
     },
     "execution_count": 8,
     "metadata": {},
     "output_type": "execute_result"
    }
   ],
   "source": [
    "len(save_train_dict), len(save_valid_dict), len(save_test_dict)"
   ]
  },
  {
   "cell_type": "code",
   "execution_count": 9,
   "metadata": {},
   "outputs": [],
   "source": [
    "with open(f\"./ID_generation/preprocessing/processed/{dataset}/{dataset}.train.inter.json\", \"w\") as f:\n",
    "    json.dump(save_train_dict, f)\n",
    "\n",
    "with open(f\"./ID_generation/preprocessing/processed/{dataset}/{dataset}.valid.inter.json\", \"w\") as f:\n",
    "    json.dump(save_valid_dict, f)\n",
    "\n",
    "with open(f\"./ID_generation/preprocessing/processed/{dataset}/{dataset}.test.inter.json\", \"w\") as f:\n",
    "    json.dump(save_test_dict, f)\n"
   ]
  },
  {
   "cell_type": "code",
   "execution_count": null,
   "metadata": {},
   "outputs": [],
   "source": []
  }
 ],
 "metadata": {
  "kernelspec": {
   "display_name": ".gen_venv",
   "language": "python",
   "name": "python3"
  },
  "language_info": {
   "codemirror_mode": {
    "name": "ipython",
    "version": 3
   },
   "file_extension": ".py",
   "mimetype": "text/x-python",
   "name": "python",
   "nbconvert_exporter": "python",
   "pygments_lexer": "ipython3",
   "version": "3.9.13"
  }
 },
 "nbformat": 4,
 "nbformat_minor": 2
}
